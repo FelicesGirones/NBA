{
 "cells": [
  {
   "cell_type": "markdown",
   "metadata": {},
   "source": [
    "# Librerías"
   ]
  },
  {
   "cell_type": "code",
   "execution_count": 1,
   "metadata": {},
   "outputs": [],
   "source": [
    "import pandas as pd\n",
    "import plotly.express as px\n",
    "import plotly.subplots as sp\n",
    "import math\n",
    "\n",
    "from scipy import stats\n",
    "from scipy.stats import shapiro\n",
    "from scipy.stats import levene\n",
    "from scipy.stats import norm\n",
    "from scipy.stats import mannwhitneyu\n",
    "from scipy.stats import skew"
   ]
  },
  {
   "cell_type": "code",
   "execution_count": 2,
   "metadata": {},
   "outputs": [],
   "source": [
    "df= pd.read_csv(r'Datasets\\draft_picks.csv')"
   ]
  },
  {
   "cell_type": "markdown",
   "metadata": {},
   "source": [
    "# AB Testing"
   ]
  },
  {
   "cell_type": "markdown",
   "metadata": {},
   "source": [
    "## Configuración previa"
   ]
  },
  {
   "cell_type": "code",
   "execution_count": 3,
   "metadata": {},
   "outputs": [
    {
     "name": "stderr",
     "output_type": "stream",
     "text": [
      "C:\\Users\\sfeli\\AppData\\Local\\Temp\\ipykernel_13144\\1704981659.py:7: SettingWithCopyWarning: \n",
      "A value is trying to be set on a copy of a slice from a DataFrame.\n",
      "Try using .loc[row_indexer,col_indexer] = value instead\n",
      "\n",
      "See the caveats in the documentation: https://pandas.pydata.org/pandas-docs/stable/user_guide/indexing.html#returning-a-view-versus-a-copy\n",
      "  top_20_pick['College'] = top_20_pick['College'].apply(lambda x: 'US' if x != 'Out US' else x)\n"
     ]
    }
   ],
   "source": [
    "#Nos quedamos con métricas por partido para una mejor comparación y el top 20 de los picks\n",
    "columns_of_interest = ['PTS per game', 'TBR per game', 'AST per game', 'WS', 'Pick','College']\n",
    "df_AB = df[columns_of_interest]\n",
    "top_20_pick = df_AB[df_AB['Pick'].between(1, 20)]\n",
    "\n",
    "#Hacemos distinción entre jugadores drafteados de Colleges versus resto mundo\n",
    "top_20_pick['College'] = top_20_pick['College'].apply(lambda x: 'US' if x != 'Out US' else x)"
   ]
  },
  {
   "cell_type": "markdown",
   "metadata": {},
   "source": [
    "## Planteamiento de la hipótesis"
   ]
  },
  {
   "cell_type": "markdown",
   "metadata": {},
   "source": [
    "Hipótesis nula (H0): No hay diferencia en las métricas de rendimiento entre los jugadores que han cursado en universidades americanas y del resto de fuera de USA.\n",
    "\n",
    "Hipótesis alternativa (H1): Los jugadores de las universidades de USA tienen mejores métricas de rendimiento que el resto.\n",
    "\n",
    "Este test se realiza con los jugadores drafteados en el top 20, ya que deberían ser los mejores de su promoción. Se realiza con métricas por partido para una mejor comparación."
   ]
  },
  {
   "cell_type": "markdown",
   "metadata": {},
   "source": [
    "## Creación de los Grupos\n"
   ]
  },
  {
   "cell_type": "code",
   "execution_count": 4,
   "metadata": {},
   "outputs": [],
   "source": [
    "#Filtramos los grupos\n",
    "us_players = top_20_pick[top_20_pick['College'] == 'US']\n",
    "out_us_players = top_20_pick[top_20_pick['College'] == 'Out US']"
   ]
  },
  {
   "cell_type": "markdown",
   "metadata": {},
   "source": [
    "## Tamaño de la muestra"
   ]
  },
  {
   "cell_type": "code",
   "execution_count": 5,
   "metadata": {},
   "outputs": [
    {
     "name": "stdout",
     "output_type": "stream",
     "text": [
      "Tamaño de muestra necesario por grupo: 63\n",
      "Tamaño actual de la muestra - US players: 1269\n",
      "Tamaño actual de la muestra - Out US players: 99\n",
      "El tamaño de la muestra es suficiente para el análisis.\n"
     ]
    }
   ],
   "source": [
    "#Definición de la función para calcular el tamaño de la muestra\n",
    "def calcular_tamano_muestra(alpha, beta, d):\n",
    "    Z_alpha_over_2 = norm.ppf(1 - alpha / 2)\n",
    "    Z_beta = norm.ppf(1 - beta)\n",
    "    n = ((Z_alpha_over_2 + Z_beta)**2) * 2 / d**2\n",
    "    return math.ceil(n)\n",
    "\n",
    "#Parámetros del cálculo\n",
    "alpha = 0.05\n",
    "beta = 0.2\n",
    "d = 0.5\n",
    "\n",
    "#Cálculo del tamaño de muestra necesario\n",
    "tamaño_muestra_necesario = calcular_tamano_muestra(alpha, beta, d)\n",
    "print(f'Tamaño de muestra necesario por grupo: {tamaño_muestra_necesario}')\n",
    "\n",
    "\n",
    "tamaño_muestra_actual_us = len(us_players)\n",
    "tamaño_muestra_actual_out_us = len(out_us_players)\n",
    "\n",
    "print(f'Tamaño actual de la muestra - US players: {tamaño_muestra_actual_us}')\n",
    "print(f'Tamaño actual de la muestra - Out US players: {tamaño_muestra_actual_out_us}')\n",
    "\n",
    "#Comparamos el tamaño de muestra necesario con el de nuestra muestra\n",
    "if tamaño_muestra_actual_us >= tamaño_muestra_necesario and tamaño_muestra_actual_out_us >= tamaño_muestra_necesario:\n",
    "    print(\"El tamaño de la muestra es suficiente para el análisis.\")\n",
    "else:\n",
    "    print(\"El tamaño de la muestra no es suficiente para el análisis.\")"
   ]
  },
  {
   "cell_type": "markdown",
   "metadata": {},
   "source": [
    "## Prueba de Levene"
   ]
  },
  {
   "cell_type": "code",
   "execution_count": 6,
   "metadata": {},
   "outputs": [
    {
     "name": "stdout",
     "output_type": "stream",
     "text": [
      "Levene test - WS: Levene stat = 1.8976381917588712, p-value = 0.1685685685877363\n",
      "Levene test - PTS per game: Levene stat = 1.5875577347236287, p-value = 0.20789062421643306\n",
      "Levene test - TBR per game: Levene stat = 0.09289391722478856, p-value = 0.7605763090620872\n",
      "Levene test - AST per game: Levene stat = 0.0024496108894978257, p-value = 0.9605332176072402\n"
     ]
    }
   ],
   "source": [
    "#Prueba de Levene para evaluar la igualdad de las varianzas (Se excluye 'Pick' y 'College')\n",
    "\n",
    "columns_of_interest = ['WS', 'PTS per game', 'TBR per game', 'AST per game']\n",
    "\n",
    "for column in columns_of_interest:\n",
    "    stat, p = levene(us_players[column], out_us_players[column])\n",
    "    print(f'Levene test - {column}: Levene stat = {stat}, p-value = {p}')"
   ]
  },
  {
   "cell_type": "markdown",
   "metadata": {},
   "source": [
    "En todos los casos, el p-valor de la prueba de Levene es mayor que el nivel de significancia (0.05). Esto indica que no hay evidencia suficiente para afirmar que las varianzas son significativamente diferentes entre los jugadores de universidades americanas y los de fuera de USA para ninguna de las métricas analizadas."
   ]
  },
  {
   "cell_type": "markdown",
   "metadata": {},
   "source": [
    "## T-test"
   ]
  },
  {
   "cell_type": "code",
   "execution_count": 7,
   "metadata": {},
   "outputs": [
    {
     "name": "stdout",
     "output_type": "stream",
     "text": [
      "WS: t-statistic = -0.8529567500064283, p-value = 0.3938328197525107\n",
      "PTS per game: t-statistic = -0.15787011770184084, p-value = 0.8745824782285969\n",
      "TBR per game: t-statistic = -1.5884393745823173, p-value = 0.11241843501670501\n",
      "AST per game: t-statistic = 0.7050802515745634, p-value = 0.4808804990373967\n"
     ]
    }
   ],
   "source": [
    "#Realizamos el t-test para las métricas seleccionadas\n",
    "t_stat_ws, p_val_ws = stats.ttest_ind(us_players['WS'], out_us_players['WS'])\n",
    "print(f'WS: t-statistic = {t_stat_ws}, p-value = {p_val_ws}')\n",
    "\n",
    "t_stat_pts, p_val_pts = stats.ttest_ind(us_players['PTS per game'], out_us_players['PTS per game'])\n",
    "print(f'PTS per game: t-statistic = {t_stat_pts}, p-value = {p_val_pts}')\n",
    "\n",
    "t_stat_tbr, p_val_tbr = stats.ttest_ind(us_players['TBR per game'], out_us_players['TBR per game'])\n",
    "print(f'TBR per game: t-statistic = {t_stat_tbr}, p-value = {p_val_tbr}')\n",
    "\n",
    "t_stat_ast, p_val_ast = stats.ttest_ind(us_players['AST per game'], out_us_players['AST per game'])\n",
    "print(f'AST per game: t-statistic = {t_stat_ast}, p-value = {p_val_ast}')"
   ]
  },
  {
   "cell_type": "markdown",
   "metadata": {},
   "source": [
    "Dado que las varianzas son homogéneas (de acuerdo con la prueba de Levene), realizamos un t-test, ya que la suposición de igualdad de varianzas está satisfecha."
   ]
  },
  {
   "cell_type": "markdown",
   "metadata": {},
   "source": [
    "Para rechazar la hipótesis nula, el p-valor debe ser menor que el nivel de significancia (0.05). En este caso, dado que todos los p-valores son significativamente mayores que 0.05, no se puede rechazar la hipótesis nula para ninguna de las métricas de rendimiento analizadas. Con los datos disponibles, no hay evidencia suficiente para afirmar que hay una diferencia significativa en las métricas de rendimiento entre los jugadores de universidades americanas y los de fuera de USA."
   ]
  },
  {
   "cell_type": "markdown",
   "metadata": {},
   "source": [
    "## Verificación de la asimetría (o skewness) "
   ]
  },
  {
   "cell_type": "code",
   "execution_count": 8,
   "metadata": {},
   "outputs": [
    {
     "name": "stdout",
     "output_type": "stream",
     "text": [
      "Asimetría para WS en US players: 2.1232699939552426\n",
      "Asimetría para WS en Out US players: 2.4403468108148556\n",
      "Asimetría para PTS per game en US players: 0.7349067090060468\n",
      "Asimetría para PTS per game en Out US players: 0.9006049152475369\n",
      "Asimetría para TBR per game en US players: 1.6021301582056058\n",
      "Asimetría para TBR per game en Out US players: 0.7628514778274799\n",
      "Asimetría para AST per game en US players: 1.6330844402723215\n",
      "Asimetría para AST per game en Out US players: 1.6590940705935933\n"
     ]
    }
   ],
   "source": [
    "#Realizamos la verificación de la asimetría\n",
    "\n",
    "columns_of_interest = ['WS', 'PTS per game', 'TBR per game', 'AST per game']\n",
    "\n",
    "for column in columns_of_interest:\n",
    "    skew_us = skew(us_players[column])\n",
    "    skew_out_us = skew(out_us_players[column])\n",
    "    print(f'Asimetría para {column} en US players: {skew_us}')\n",
    "    print(f'Asimetría para {column} en Out US players: {skew_out_us}')"
   ]
  },
  {
   "cell_type": "markdown",
   "metadata": {},
   "source": [
    "La distribución de los datos presentan una distribución asimetría positiva, ya que el Skewness es mayor a 0. La asimetría positiva significativa en la mayoría de las métricas indica que los datos no presentan una distribución normal, por lo que realizamos una prueba de normalidad para verificar el resultado obtenido."
   ]
  },
  {
   "cell_type": "markdown",
   "metadata": {},
   "source": [
    "## Prueba de Normalidad (Shapiro-Wilk)"
   ]
  },
  {
   "cell_type": "code",
   "execution_count": 9,
   "metadata": {},
   "outputs": [
    {
     "name": "stdout",
     "output_type": "stream",
     "text": [
      "US players - WS: Shapiro-Wilk stat = 0.7757511310355696, p-value = 1.6639869524045598e-38\n",
      "Out US players - WS: Shapiro-Wilk stat = 0.6925471904380025, p-value = 4.2765131244585703e-13\n",
      "US players - PTS per game: Shapiro-Wilk stat = 0.9575772191753695, p-value = 9.739657755810533e-19\n",
      "Out US players - PTS per game: Shapiro-Wilk stat = 0.9310636498309208, p-value = 6.226288338723993e-05\n",
      "US players - TBR per game: Shapiro-Wilk stat = 0.8978150014758322, p-value = 3.0356097776108345e-28\n",
      "Out US players - TBR per game: Shapiro-Wilk stat = 0.9289249745140927, p-value = 4.715554558651426e-05\n",
      "US players - AST per game: Shapiro-Wilk stat = 0.8516697558843919, p-value = 6.67971077088532e-33\n",
      "Out US players - AST per game: Shapiro-Wilk stat = 0.8090945388585189, p-value = 5.457550890277046e-10\n"
     ]
    }
   ],
   "source": [
    "#Realizamos la prueba de Mann-Whitney U para las métricas seleccionadas\n",
    "\n",
    "columns_of_interest = ['WS', 'PTS per game', 'TBR per game', 'AST per game']\n",
    "\n",
    "for column in columns_of_interest: \n",
    "    stat, p = shapiro(us_players[column])\n",
    "    print(f'US players - {column}: Shapiro-Wilk stat = {stat}, p-value = {p}')\n",
    "    \n",
    "    stat, p = shapiro(out_us_players[column])\n",
    "    print(f'Out US players - {column}: Shapiro-Wilk stat = {stat}, p-value = {p}')"
   ]
  },
  {
   "cell_type": "markdown",
   "metadata": {},
   "source": [
    "Relizando la prueba de Shapiro-Wilk, el p-valor es menor que el nivel de significancia (0.05). En este caso, todos los p-valores son extremadamente pequeños, lo que indica que los datos no siguen una distribución normal para todas las métricas."
   ]
  },
  {
   "cell_type": "markdown",
   "metadata": {},
   "source": [
    "## Prueba de Mann-Whitney U"
   ]
  },
  {
   "cell_type": "code",
   "execution_count": 10,
   "metadata": {},
   "outputs": [
    {
     "name": "stdout",
     "output_type": "stream",
     "text": [
      "WS: U-statistic = 64084.0, p-value = 0.737670779608715\n",
      "PTS per game: U-statistic = 63856.5, p-value = 0.7834331446128161\n",
      "TBR per game: U-statistic = 56117.5, p-value = 0.07684130544848712\n",
      "AST per game: U-statistic = 67898.5, p-value = 0.1792400653578473\n"
     ]
    }
   ],
   "source": [
    "#Realizamos la prueba de Mann-Whitney U para las métricas seleccionadas\n",
    "\n",
    "u_stat_ws, p_val_ws = mannwhitneyu(us_players['WS'], out_us_players['WS'])\n",
    "print(f'WS: U-statistic = {u_stat_ws}, p-value = {p_val_ws}')\n",
    "\n",
    "u_stat_pts, p_val_pts = mannwhitneyu(us_players['PTS per game'], out_us_players['PTS per game'])\n",
    "print(f'PTS per game: U-statistic = {u_stat_pts}, p-value = {p_val_pts}')\n",
    "\n",
    "u_stat_tbr, p_val_tbr = mannwhitneyu(us_players['TBR per game'], out_us_players['TBR per game'])\n",
    "print(f'TBR per game: U-statistic = {u_stat_tbr}, p-value = {p_val_tbr}')\n",
    "\n",
    "u_stat_ast, p_val_ast = mannwhitneyu(us_players['AST per game'], out_us_players['AST per game'])\n",
    "print(f'AST per game: U-statistic = {u_stat_ast}, p-value = {p_val_ast}')"
   ]
  },
  {
   "cell_type": "markdown",
   "metadata": {},
   "source": [
    "Dado que nuestros datos no siguen una distribución normal y, las muestras no son pareadas, es decir, que son muestras independientes, realizamos la prueba de Mann-Whitney U. En base a los resultados de la prueba de Mann-Whitney U, el p-valor es mayor que el nivel de significancia (0.05), por lo que no encontramos evidencia suficiente para rechazar la hipótesis nula para ninguna de las métricas de rendimiento consideradas. "
   ]
  },
  {
   "cell_type": "markdown",
   "metadata": {},
   "source": [
    "Dado que los resultados de las pruebas estadísticas muestran que no hay diferencias significativas entre los dos grupos en ninguna de las métricas de rendimiento, no hay suficiente evidencia para rechazar la hipótesis nula (H0). Por lo tanto, se concluye que no hay diferencias significativas en el rendimiento entre los jugadores de que vienen de universidades americanas y el resto."
   ]
  },
  {
   "cell_type": "markdown",
   "metadata": {},
   "source": [
    "## Graficamos"
   ]
  },
  {
   "cell_type": "code",
   "execution_count": 11,
   "metadata": {},
   "outputs": [
    {
     "ename": "NameError",
     "evalue": "name 'sp' is not defined",
     "output_type": "error",
     "traceback": [
      "\u001b[1;31m---------------------------------------------------------------------------\u001b[0m",
      "\u001b[1;31mNameError\u001b[0m                                 Traceback (most recent call last)",
      "Cell \u001b[1;32mIn[11], line 20\u001b[0m\n\u001b[0;32m     17\u001b[0m columns_of_interest \u001b[38;5;241m=\u001b[39m [\u001b[38;5;124m'\u001b[39m\u001b[38;5;124mWin Shares\u001b[39m\u001b[38;5;124m'\u001b[39m, \u001b[38;5;124m'\u001b[39m\u001b[38;5;124mPoints per Game\u001b[39m\u001b[38;5;124m'\u001b[39m, \u001b[38;5;124m'\u001b[39m\u001b[38;5;124mTotal Rebounds per Game\u001b[39m\u001b[38;5;124m'\u001b[39m, \u001b[38;5;124m'\u001b[39m\u001b[38;5;124mAssists per Game\u001b[39m\u001b[38;5;124m'\u001b[39m]\n\u001b[0;32m     19\u001b[0m \u001b[38;5;66;03m#Creamos las gráficas\u001b[39;00m\n\u001b[1;32m---> 20\u001b[0m fig \u001b[38;5;241m=\u001b[39m \u001b[43msp\u001b[49m\u001b[38;5;241m.\u001b[39mmake_subplots(rows\u001b[38;5;241m=\u001b[39m\u001b[38;5;241m2\u001b[39m, cols\u001b[38;5;241m=\u001b[39m\u001b[38;5;241m2\u001b[39m, subplot_titles\u001b[38;5;241m=\u001b[39mcolumns_of_interest)\n\u001b[0;32m     22\u001b[0m \u001b[38;5;28;01mfor\u001b[39;00m i, column \u001b[38;5;129;01min\u001b[39;00m \u001b[38;5;28menumerate\u001b[39m(columns_of_interest):\n\u001b[0;32m     23\u001b[0m     row \u001b[38;5;241m=\u001b[39m i \u001b[38;5;241m/\u001b[39m\u001b[38;5;241m/\u001b[39m \u001b[38;5;241m2\u001b[39m \u001b[38;5;241m+\u001b[39m \u001b[38;5;241m1\u001b[39m\n",
      "\u001b[1;31mNameError\u001b[0m: name 'sp' is not defined"
     ]
    }
   ],
   "source": [
    "#Filtramos los grupos\n",
    "us_players = top_20_pick[top_20_pick['College'] == 'US']\n",
    "out_us_players = top_20_pick[top_20_pick['College'] == 'Out US']\n",
    "\n",
    "#Combinamos los datos\n",
    "combined_df = pd.concat([\n",
    "    us_players.assign(College='US College'),\n",
    "    out_us_players.assign(College='Non US College')])\n",
    "\n",
    "#Renombramos las columnas\n",
    "combined_df.rename(columns={\n",
    "    'WS': 'Win Shares',\n",
    "    'PTS per game': 'Points per Game',\n",
    "    'TBR per game': 'Total Rebounds per Game',\n",
    "    'AST per game': 'Assists per Game'}, inplace=True)\n",
    "\n",
    "columns_of_interest = ['Win Shares', 'Points per Game', 'Total Rebounds per Game', 'Assists per Game']\n",
    "\n",
    "#Creamos las gráficas\n",
    "fig = sp.make_subplots(rows=2, cols=2, subplot_titles=columns_of_interest)\n",
    "\n",
    "for i, column in enumerate(columns_of_interest):\n",
    "    row = i // 2 + 1\n",
    "    col = i % 2 + 1\n",
    "    violin_fig = px.violin(\n",
    "        combined_df,\n",
    "        y=column,\n",
    "        x='College',\n",
    "        color='College',\n",
    "        box=True,\n",
    "        points='all')\n",
    "    \n",
    "    for trace in violin_fig.data:\n",
    "        trace.marker.color = 'royalblue' if trace.name == 'US College' else 'darkorange'\n",
    "        fig.add_trace(trace, row=row, col=col)\n",
    "    \n",
    "    fig.update_xaxes(\n",
    "        title=None, \n",
    "        showline=False, \n",
    "        showgrid=False,\n",
    "        zeroline=False,\n",
    "        showticklabels=False,\n",
    "        row=row, col=col)\n",
    "    fig.update_yaxes(\n",
    "        title=None, \n",
    "        showline=False, \n",
    "        showgrid=False,\n",
    "        zeroline=False,\n",
    "        showticklabels=False,\n",
    "        row=row, col=col)\n",
    "    \n",
    "fig.update_layout(\n",
    "    title_text='Data Distribution and Comparison by College',\n",
    "    paper_bgcolor='black',\n",
    "    plot_bgcolor='black',\n",
    "    font_color='white',\n",
    "    legend_title=None,\n",
    "    legend=dict(\n",
    "        yanchor=\"top\",\n",
    "        y=0.99,\n",
    "        xanchor=\"left\",\n",
    "        x=0.01))\n",
    "\n",
    "fig.update_layout(\n",
    "    legend=dict(\n",
    "        yanchor=\"top\",\n",
    "        y=1.1,\n",
    "        xanchor=\"right\",\n",
    "        x=1.05))\n",
    "\n",
    "fig.show()\n"
   ]
  }
 ],
 "metadata": {
  "kernelspec": {
   "display_name": "mi_entorno",
   "language": "python",
   "name": "python3"
  },
  "language_info": {
   "codemirror_mode": {
    "name": "ipython",
    "version": 3
   },
   "file_extension": ".py",
   "mimetype": "text/x-python",
   "name": "python",
   "nbconvert_exporter": "python",
   "pygments_lexer": "ipython3",
   "version": "3.11.8"
  }
 },
 "nbformat": 4,
 "nbformat_minor": 2
}
