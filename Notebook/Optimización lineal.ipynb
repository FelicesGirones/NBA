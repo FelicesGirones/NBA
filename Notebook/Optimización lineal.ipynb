{
 "cells": [
  {
   "cell_type": "markdown",
   "metadata": {},
   "source": [
    "# 1. Librerías"
   ]
  },
  {
   "cell_type": "code",
   "execution_count": 18,
   "metadata": {},
   "outputs": [],
   "source": [
    "import pandas as pd\n",
    "import plotly.express as px\n",
    "import plotly.graph_objects as go\n",
    "from ortools.linear_solver import pywraplp\n",
    "from sklearn.ensemble import RandomForestRegressor\n",
    "import matplotlib.pyplot as plt\n",
    "import numpy as np"
   ]
  },
  {
   "cell_type": "code",
   "execution_count": 3,
   "metadata": {},
   "outputs": [],
   "source": [
    "df_player_salary= pd.read_csv(r'C:\\Users\\sfeli\\Documents\\Upgradehub\\DATA\\NBA\\Datasets Cleaned\\salary_2024.csv')"
   ]
  },
  {
   "cell_type": "code",
   "execution_count": 34,
   "metadata": {},
   "outputs": [
    {
     "data": {
      "application/vnd.plotly.v1+json": {
       "config": {
        "plotlyServerURL": "https://plot.ly"
       },
       "data": [
        {
         "alignmentgroup": "True",
         "hovertemplate": "Características=%{x}<br>Importancia (%)=%{marker.color}<extra></extra>",
         "legendgroup": "",
         "marker": {
          "color": [
           19.876927151353893,
           10.939416913059821,
           9.181909174476807,
           7.393599224879148,
           6.172404691250165,
           6.127887699341724,
           4.757781269703482,
           4.275755013010813,
           4.072191475016885,
           3.5981168274695956,
           3.4006880337675383,
           2.862779878800722,
           2.7584319198801435,
           2.1360559481324324,
           2.109941207125619,
           1.6554644360020527,
           1.5529040702135357,
           1.5222419086955907,
           1.5103362180907973,
           1.4945809239490069,
           1.48950004394742,
           1.1110859718328034
          ],
          "coloraxis": "coloraxis",
          "pattern": {
           "shape": ""
          }
         },
         "name": "",
         "offsetgroup": "",
         "orientation": "v",
         "showlegend": false,
         "textposition": "auto",
         "type": "bar",
         "x": [
          "PTS",
          "FG",
          "FGA",
          "FT",
          "AST",
          "WS",
          "FTA",
          "OWS",
          "FT%",
          "PF",
          "3P%",
          "STL",
          "ORB",
          "2PA",
          "DRB",
          "2P%",
          "FG%",
          "BLK",
          "3P",
          "DWS",
          "3PA",
          "2P"
         ],
         "xaxis": "x",
         "y": [
          19.876927151353893,
          10.939416913059821,
          9.181909174476807,
          7.393599224879148,
          6.172404691250165,
          6.127887699341724,
          4.757781269703482,
          4.275755013010813,
          4.072191475016885,
          3.5981168274695956,
          3.4006880337675383,
          2.862779878800722,
          2.7584319198801435,
          2.1360559481324324,
          2.109941207125619,
          1.6554644360020527,
          1.5529040702135357,
          1.5222419086955907,
          1.5103362180907973,
          1.4945809239490069,
          1.48950004394742,
          1.1110859718328034
         ],
         "yaxis": "y"
        }
       ],
       "layout": {
        "barmode": "relative",
        "coloraxis": {
         "colorbar": {
          "title": {
           "text": "Importancia (%)"
          }
         },
         "colorscale": [
          [
           0,
           "#440154"
          ],
          [
           0.1111111111111111,
           "#482878"
          ],
          [
           0.2222222222222222,
           "#3e4989"
          ],
          [
           0.3333333333333333,
           "#31688e"
          ],
          [
           0.4444444444444444,
           "#26828e"
          ],
          [
           0.5555555555555556,
           "#1f9e89"
          ],
          [
           0.6666666666666666,
           "#35b779"
          ],
          [
           0.7777777777777778,
           "#6ece58"
          ],
          [
           0.8888888888888888,
           "#b5de2b"
          ],
          [
           1,
           "#fde725"
          ]
         ]
        },
        "legend": {
         "tracegroupgap": 0
        },
        "template": {
         "data": {
          "bar": [
           {
            "error_x": {
             "color": "#f2f5fa"
            },
            "error_y": {
             "color": "#f2f5fa"
            },
            "marker": {
             "line": {
              "color": "rgb(17,17,17)",
              "width": 0.5
             },
             "pattern": {
              "fillmode": "overlay",
              "size": 10,
              "solidity": 0.2
             }
            },
            "type": "bar"
           }
          ],
          "barpolar": [
           {
            "marker": {
             "line": {
              "color": "rgb(17,17,17)",
              "width": 0.5
             },
             "pattern": {
              "fillmode": "overlay",
              "size": 10,
              "solidity": 0.2
             }
            },
            "type": "barpolar"
           }
          ],
          "carpet": [
           {
            "aaxis": {
             "endlinecolor": "#A2B1C6",
             "gridcolor": "#506784",
             "linecolor": "#506784",
             "minorgridcolor": "#506784",
             "startlinecolor": "#A2B1C6"
            },
            "baxis": {
             "endlinecolor": "#A2B1C6",
             "gridcolor": "#506784",
             "linecolor": "#506784",
             "minorgridcolor": "#506784",
             "startlinecolor": "#A2B1C6"
            },
            "type": "carpet"
           }
          ],
          "choropleth": [
           {
            "colorbar": {
             "outlinewidth": 0,
             "ticks": ""
            },
            "type": "choropleth"
           }
          ],
          "contour": [
           {
            "colorbar": {
             "outlinewidth": 0,
             "ticks": ""
            },
            "colorscale": [
             [
              0,
              "#0d0887"
             ],
             [
              0.1111111111111111,
              "#46039f"
             ],
             [
              0.2222222222222222,
              "#7201a8"
             ],
             [
              0.3333333333333333,
              "#9c179e"
             ],
             [
              0.4444444444444444,
              "#bd3786"
             ],
             [
              0.5555555555555556,
              "#d8576b"
             ],
             [
              0.6666666666666666,
              "#ed7953"
             ],
             [
              0.7777777777777778,
              "#fb9f3a"
             ],
             [
              0.8888888888888888,
              "#fdca26"
             ],
             [
              1,
              "#f0f921"
             ]
            ],
            "type": "contour"
           }
          ],
          "contourcarpet": [
           {
            "colorbar": {
             "outlinewidth": 0,
             "ticks": ""
            },
            "type": "contourcarpet"
           }
          ],
          "heatmap": [
           {
            "colorbar": {
             "outlinewidth": 0,
             "ticks": ""
            },
            "colorscale": [
             [
              0,
              "#0d0887"
             ],
             [
              0.1111111111111111,
              "#46039f"
             ],
             [
              0.2222222222222222,
              "#7201a8"
             ],
             [
              0.3333333333333333,
              "#9c179e"
             ],
             [
              0.4444444444444444,
              "#bd3786"
             ],
             [
              0.5555555555555556,
              "#d8576b"
             ],
             [
              0.6666666666666666,
              "#ed7953"
             ],
             [
              0.7777777777777778,
              "#fb9f3a"
             ],
             [
              0.8888888888888888,
              "#fdca26"
             ],
             [
              1,
              "#f0f921"
             ]
            ],
            "type": "heatmap"
           }
          ],
          "heatmapgl": [
           {
            "colorbar": {
             "outlinewidth": 0,
             "ticks": ""
            },
            "colorscale": [
             [
              0,
              "#0d0887"
             ],
             [
              0.1111111111111111,
              "#46039f"
             ],
             [
              0.2222222222222222,
              "#7201a8"
             ],
             [
              0.3333333333333333,
              "#9c179e"
             ],
             [
              0.4444444444444444,
              "#bd3786"
             ],
             [
              0.5555555555555556,
              "#d8576b"
             ],
             [
              0.6666666666666666,
              "#ed7953"
             ],
             [
              0.7777777777777778,
              "#fb9f3a"
             ],
             [
              0.8888888888888888,
              "#fdca26"
             ],
             [
              1,
              "#f0f921"
             ]
            ],
            "type": "heatmapgl"
           }
          ],
          "histogram": [
           {
            "marker": {
             "pattern": {
              "fillmode": "overlay",
              "size": 10,
              "solidity": 0.2
             }
            },
            "type": "histogram"
           }
          ],
          "histogram2d": [
           {
            "colorbar": {
             "outlinewidth": 0,
             "ticks": ""
            },
            "colorscale": [
             [
              0,
              "#0d0887"
             ],
             [
              0.1111111111111111,
              "#46039f"
             ],
             [
              0.2222222222222222,
              "#7201a8"
             ],
             [
              0.3333333333333333,
              "#9c179e"
             ],
             [
              0.4444444444444444,
              "#bd3786"
             ],
             [
              0.5555555555555556,
              "#d8576b"
             ],
             [
              0.6666666666666666,
              "#ed7953"
             ],
             [
              0.7777777777777778,
              "#fb9f3a"
             ],
             [
              0.8888888888888888,
              "#fdca26"
             ],
             [
              1,
              "#f0f921"
             ]
            ],
            "type": "histogram2d"
           }
          ],
          "histogram2dcontour": [
           {
            "colorbar": {
             "outlinewidth": 0,
             "ticks": ""
            },
            "colorscale": [
             [
              0,
              "#0d0887"
             ],
             [
              0.1111111111111111,
              "#46039f"
             ],
             [
              0.2222222222222222,
              "#7201a8"
             ],
             [
              0.3333333333333333,
              "#9c179e"
             ],
             [
              0.4444444444444444,
              "#bd3786"
             ],
             [
              0.5555555555555556,
              "#d8576b"
             ],
             [
              0.6666666666666666,
              "#ed7953"
             ],
             [
              0.7777777777777778,
              "#fb9f3a"
             ],
             [
              0.8888888888888888,
              "#fdca26"
             ],
             [
              1,
              "#f0f921"
             ]
            ],
            "type": "histogram2dcontour"
           }
          ],
          "mesh3d": [
           {
            "colorbar": {
             "outlinewidth": 0,
             "ticks": ""
            },
            "type": "mesh3d"
           }
          ],
          "parcoords": [
           {
            "line": {
             "colorbar": {
              "outlinewidth": 0,
              "ticks": ""
             }
            },
            "type": "parcoords"
           }
          ],
          "pie": [
           {
            "automargin": true,
            "type": "pie"
           }
          ],
          "scatter": [
           {
            "marker": {
             "line": {
              "color": "#283442"
             }
            },
            "type": "scatter"
           }
          ],
          "scatter3d": [
           {
            "line": {
             "colorbar": {
              "outlinewidth": 0,
              "ticks": ""
             }
            },
            "marker": {
             "colorbar": {
              "outlinewidth": 0,
              "ticks": ""
             }
            },
            "type": "scatter3d"
           }
          ],
          "scattercarpet": [
           {
            "marker": {
             "colorbar": {
              "outlinewidth": 0,
              "ticks": ""
             }
            },
            "type": "scattercarpet"
           }
          ],
          "scattergeo": [
           {
            "marker": {
             "colorbar": {
              "outlinewidth": 0,
              "ticks": ""
             }
            },
            "type": "scattergeo"
           }
          ],
          "scattergl": [
           {
            "marker": {
             "line": {
              "color": "#283442"
             }
            },
            "type": "scattergl"
           }
          ],
          "scattermapbox": [
           {
            "marker": {
             "colorbar": {
              "outlinewidth": 0,
              "ticks": ""
             }
            },
            "type": "scattermapbox"
           }
          ],
          "scatterpolar": [
           {
            "marker": {
             "colorbar": {
              "outlinewidth": 0,
              "ticks": ""
             }
            },
            "type": "scatterpolar"
           }
          ],
          "scatterpolargl": [
           {
            "marker": {
             "colorbar": {
              "outlinewidth": 0,
              "ticks": ""
             }
            },
            "type": "scatterpolargl"
           }
          ],
          "scatterternary": [
           {
            "marker": {
             "colorbar": {
              "outlinewidth": 0,
              "ticks": ""
             }
            },
            "type": "scatterternary"
           }
          ],
          "surface": [
           {
            "colorbar": {
             "outlinewidth": 0,
             "ticks": ""
            },
            "colorscale": [
             [
              0,
              "#0d0887"
             ],
             [
              0.1111111111111111,
              "#46039f"
             ],
             [
              0.2222222222222222,
              "#7201a8"
             ],
             [
              0.3333333333333333,
              "#9c179e"
             ],
             [
              0.4444444444444444,
              "#bd3786"
             ],
             [
              0.5555555555555556,
              "#d8576b"
             ],
             [
              0.6666666666666666,
              "#ed7953"
             ],
             [
              0.7777777777777778,
              "#fb9f3a"
             ],
             [
              0.8888888888888888,
              "#fdca26"
             ],
             [
              1,
              "#f0f921"
             ]
            ],
            "type": "surface"
           }
          ],
          "table": [
           {
            "cells": {
             "fill": {
              "color": "#506784"
             },
             "line": {
              "color": "rgb(17,17,17)"
             }
            },
            "header": {
             "fill": {
              "color": "#2a3f5f"
             },
             "line": {
              "color": "rgb(17,17,17)"
             }
            },
            "type": "table"
           }
          ]
         },
         "layout": {
          "annotationdefaults": {
           "arrowcolor": "#f2f5fa",
           "arrowhead": 0,
           "arrowwidth": 1
          },
          "autotypenumbers": "strict",
          "coloraxis": {
           "colorbar": {
            "outlinewidth": 0,
            "ticks": ""
           }
          },
          "colorscale": {
           "diverging": [
            [
             0,
             "#8e0152"
            ],
            [
             0.1,
             "#c51b7d"
            ],
            [
             0.2,
             "#de77ae"
            ],
            [
             0.3,
             "#f1b6da"
            ],
            [
             0.4,
             "#fde0ef"
            ],
            [
             0.5,
             "#f7f7f7"
            ],
            [
             0.6,
             "#e6f5d0"
            ],
            [
             0.7,
             "#b8e186"
            ],
            [
             0.8,
             "#7fbc41"
            ],
            [
             0.9,
             "#4d9221"
            ],
            [
             1,
             "#276419"
            ]
           ],
           "sequential": [
            [
             0,
             "#0d0887"
            ],
            [
             0.1111111111111111,
             "#46039f"
            ],
            [
             0.2222222222222222,
             "#7201a8"
            ],
            [
             0.3333333333333333,
             "#9c179e"
            ],
            [
             0.4444444444444444,
             "#bd3786"
            ],
            [
             0.5555555555555556,
             "#d8576b"
            ],
            [
             0.6666666666666666,
             "#ed7953"
            ],
            [
             0.7777777777777778,
             "#fb9f3a"
            ],
            [
             0.8888888888888888,
             "#fdca26"
            ],
            [
             1,
             "#f0f921"
            ]
           ],
           "sequentialminus": [
            [
             0,
             "#0d0887"
            ],
            [
             0.1111111111111111,
             "#46039f"
            ],
            [
             0.2222222222222222,
             "#7201a8"
            ],
            [
             0.3333333333333333,
             "#9c179e"
            ],
            [
             0.4444444444444444,
             "#bd3786"
            ],
            [
             0.5555555555555556,
             "#d8576b"
            ],
            [
             0.6666666666666666,
             "#ed7953"
            ],
            [
             0.7777777777777778,
             "#fb9f3a"
            ],
            [
             0.8888888888888888,
             "#fdca26"
            ],
            [
             1,
             "#f0f921"
            ]
           ]
          },
          "colorway": [
           "#636efa",
           "#EF553B",
           "#00cc96",
           "#ab63fa",
           "#FFA15A",
           "#19d3f3",
           "#FF6692",
           "#B6E880",
           "#FF97FF",
           "#FECB52"
          ],
          "font": {
           "color": "#f2f5fa"
          },
          "geo": {
           "bgcolor": "rgb(17,17,17)",
           "lakecolor": "rgb(17,17,17)",
           "landcolor": "rgb(17,17,17)",
           "showlakes": true,
           "showland": true,
           "subunitcolor": "#506784"
          },
          "hoverlabel": {
           "align": "left"
          },
          "hovermode": "closest",
          "mapbox": {
           "style": "dark"
          },
          "paper_bgcolor": "rgb(17,17,17)",
          "plot_bgcolor": "rgb(17,17,17)",
          "polar": {
           "angularaxis": {
            "gridcolor": "#506784",
            "linecolor": "#506784",
            "ticks": ""
           },
           "bgcolor": "rgb(17,17,17)",
           "radialaxis": {
            "gridcolor": "#506784",
            "linecolor": "#506784",
            "ticks": ""
           }
          },
          "scene": {
           "xaxis": {
            "backgroundcolor": "rgb(17,17,17)",
            "gridcolor": "#506784",
            "gridwidth": 2,
            "linecolor": "#506784",
            "showbackground": true,
            "ticks": "",
            "zerolinecolor": "#C8D4E3"
           },
           "yaxis": {
            "backgroundcolor": "rgb(17,17,17)",
            "gridcolor": "#506784",
            "gridwidth": 2,
            "linecolor": "#506784",
            "showbackground": true,
            "ticks": "",
            "zerolinecolor": "#C8D4E3"
           },
           "zaxis": {
            "backgroundcolor": "rgb(17,17,17)",
            "gridcolor": "#506784",
            "gridwidth": 2,
            "linecolor": "#506784",
            "showbackground": true,
            "ticks": "",
            "zerolinecolor": "#C8D4E3"
           }
          },
          "shapedefaults": {
           "line": {
            "color": "#f2f5fa"
           }
          },
          "sliderdefaults": {
           "bgcolor": "#C8D4E3",
           "bordercolor": "rgb(17,17,17)",
           "borderwidth": 1,
           "tickwidth": 0
          },
          "ternary": {
           "aaxis": {
            "gridcolor": "#506784",
            "linecolor": "#506784",
            "ticks": ""
           },
           "baxis": {
            "gridcolor": "#506784",
            "linecolor": "#506784",
            "ticks": ""
           },
           "bgcolor": "rgb(17,17,17)",
           "caxis": {
            "gridcolor": "#506784",
            "linecolor": "#506784",
            "ticks": ""
           }
          },
          "title": {
           "x": 0.05
          },
          "updatemenudefaults": {
           "bgcolor": "#506784",
           "borderwidth": 0
          },
          "xaxis": {
           "automargin": true,
           "gridcolor": "#283442",
           "linecolor": "#506784",
           "ticks": "",
           "title": {
            "standoff": 15
           },
           "zerolinecolor": "#283442",
           "zerolinewidth": 2
          },
          "yaxis": {
           "automargin": true,
           "gridcolor": "#283442",
           "linecolor": "#506784",
           "ticks": "",
           "title": {
            "standoff": 15
           },
           "zerolinecolor": "#283442",
           "zerolinewidth": 2
          }
         }
        },
        "title": {
         "text": "Importancia de las Características en el Modelo de Random Forest"
        },
        "xaxis": {
         "anchor": "y",
         "domain": [
          0,
          1
         ],
         "gridwidth": 0,
         "showgrid": false,
         "title": {
          "text": ""
         }
        },
        "yaxis": {
         "anchor": "x",
         "domain": [
          0,
          1
         ],
         "gridwidth": 0,
         "showgrid": false,
         "title": {
          "text": ""
         }
        }
       }
      }
     },
     "metadata": {},
     "output_type": "display_data"
    }
   ],
   "source": [
    "#Seleccionamos las columnas de interés\n",
    "columns_of_interest = ['FG', 'FGA', 'FG%', '3P', '3PA',\n",
    "                       '3P%', '2P', '2PA', '2P%', 'FT', 'FTA', 'FT%',\n",
    "                       'ORB', 'DRB', 'AST', 'STL', 'BLK', 'PF', 'PTS',\n",
    "                       'OWS', 'DWS', 'WS', 'Salary']\n",
    "\n",
    "df_rf = df_player_salary[columns_of_interest]\n",
    "\n",
    "#Definimos la variable objetivo y las variables predictoras\n",
    "y = df_rf['Salary']\n",
    "X = df_rf.drop(['Salary'], axis=1)\n",
    "\n",
    "#Inicializamos y ajustamos el modelo Random Forest\n",
    "model = RandomForestRegressor()\n",
    "model.fit(X, y)\n",
    "\n",
    "#Obtenemos la importancia de las características\n",
    "feature_importances = model.feature_importances_\n",
    "feature_importances_percent = 100.0 * (feature_importances / feature_importances.sum())\n",
    "indices = np.argsort(feature_importances_percent)[::-1]\n",
    "\n",
    "#Preparamos datos para la visualización\n",
    "importance_df = pd.DataFrame({\n",
    "    'Feature': X.columns[indices],\n",
    "    'Importance (%)': feature_importances_percent[indices]})\n",
    "\n",
    "#Creamos el gráfico\n",
    "fig = px.bar(importance_df, \n",
    "             x='Feature', \n",
    "             y='Importance (%)',\n",
    "             title='Importancia de las Características en el Modelo de Random Forest',\n",
    "             labels={'Feature': 'Características', 'Importance (%)': 'Importancia (%)'},\n",
    "             color='Importance (%)',\n",
    "             color_continuous_scale='Viridis',\n",
    "             template='plotly_dark')\n",
    "\n",
    "# Configuración adicional del gráfico\n",
    "\n",
    "fig.update_layout(yaxis_title='', xaxis_title='')\n",
    "fig.update_xaxes(showgrid=False, gridwidth=0)\n",
    "fig.update_yaxes(showgrid=False, gridwidth=0)\n",
    "\n",
    "# Mostrar el gráfico\n",
    "fig.show()"
   ]
  },
  {
   "cell_type": "code",
   "execution_count": 4,
   "metadata": {},
   "outputs": [
    {
     "name": "stdout",
     "output_type": "stream",
     "text": [
      "Total team salary: $148692953.0\n",
      "Team statistics:\n",
      " - FG: 7508.0\n",
      " - FGA: 15978.0\n",
      " - FG%: 5.65\n",
      " - 3P: 1785.0\n",
      " - 3PA: 5091.0\n",
      " - 3P%: 4.1339999999999995\n",
      " - 2P: 5723.0\n",
      " - 2PA: 10887.0\n",
      " - 2P%: 6.298\n",
      " - FT: 3902.0\n",
      " - FTA: 4786.0\n",
      " - FT%: 9.767999999999999\n",
      " - ORB: 896.0\n",
      " - DRB: 4322.0\n",
      " - AST: 4324.0\n",
      " - STL: 988.0\n",
      " - BLK: 631.0\n",
      " - PF: 1814.0\n",
      " - PTS: 20703.0\n",
      " - OWS: 41.099999999999994\n",
      " - DWS: 35.2\n",
      " - WS: 76.4\n",
      "Team:\n",
      " - Paolo Banchero: PF, Salary: $11608080.0\n",
      " - Miles Bridges: SF, Salary: $7921300.0\n",
      " - Jalen Brunson: PG, Salary: $26346666.0\n",
      " - Anthony Edwards: SG, Salary: $13534817.0\n",
      " - Shai Gilgeous-Alexander: PG, Salary: $33386850.0\n",
      " - Jalen Green: SG, Salary: $9891480.0\n",
      " - Tyrese Maxey: PG, Salary: $4343920.0\n",
      " - Dejounte Murray: SG, Salary: $18214000.0\n",
      " - Alperen Sengun: C, Salary: $3536280.0\n",
      " - Cam Thomas: SG, Salary: $2240160.0\n",
      " - Franz Wagner: SF, Salary: $5508720.0\n",
      " - Victor Wembanyama: C, Salary: $12160680.0\n"
     ]
    }
   ],
   "source": [
    "class Player:\n",
    "    def __init__(self, name, pos, salary, stats):\n",
    "        self.name = name\n",
    "        self.pos = pos\n",
    "        self.salary = salary\n",
    "        self.stats = stats\n",
    "\n",
    "def create_team(df):\n",
    "    players = {}\n",
    "    for index, row in df.iterrows():\n",
    "        stats = {\n",
    "            'FG': row['FG'], 'FGA': row['FGA'], 'FG%': row['FG%'], '3P': row['3P'], '3PA': row['3PA'],\n",
    "            '3P%': row['3P%'], '2P': row['2P'], '2PA': row['2PA'], '2P%': row['2P%'], 'FT': row['FT'],\n",
    "            'FTA': row['FTA'], 'FT%': row['FT%'], 'ORB': row['ORB'], 'DRB': row['DRB'], 'AST': row['AST'],\n",
    "            'STL': row['STL'], 'BLK': row['BLK'], 'PF': row['PF'], 'PTS': row['PTS'], 'OWS': row['OWS'],\n",
    "            'DWS': row['DWS'], 'WS': row['WS']\n",
    "        }\n",
    "        players[row['Player']] = Player(row['Player'], row['Pos'], row['Salary'], stats)\n",
    "    return players\n",
    "\n",
    "def create_solver():\n",
    "    return pywraplp.Solver.CreateSolver('GLOP')\n",
    "\n",
    "def define_variables(solver, players):\n",
    "    return {name: solver.IntVar(0, 1, name) for name in players}\n",
    "\n",
    "def add_constraints(solver, vars, players, max_salary, min_positions):\n",
    "    \n",
    "    #Restricción de presupuesto\n",
    "    salary_constraint = solver.Constraint(0, max_salary)\n",
    "    for player_name, player in players.items():\n",
    "        salary_constraint.SetCoefficient(vars[player_name], player.salary)\n",
    "    \n",
    "    #Restricción de número de jugadores\n",
    "    num_players_constraint = solver.Constraint(10, 14)\n",
    "    for var in vars.values():\n",
    "        num_players_constraint.SetCoefficient(var, 1)\n",
    "    \n",
    "    #Restricciones de posiciones\n",
    "    for pos, min_count in min_positions.items():\n",
    "        pos_constraint = solver.Constraint(min_count, solver.infinity())\n",
    "        for player_name, player in players.items():\n",
    "            if player.pos == pos:\n",
    "                pos_constraint.SetCoefficient(vars[player_name], 1)\n",
    "\n",
    "def set_objective(solver, vars, players):\n",
    "    #Definimos los pesos para cada estadística\n",
    "    weights = {\n",
    "        'PTS': 18.55, 'FG': 13.52, 'FGA': 9.41, 'FT': 6.76, 'AST': 5.99, 'WS': 5.10, 'OWS': 4.62,\n",
    "        'FTA': 4.14, 'FT%': 3.97, 'PF': 3.59, '3P%': 3.30, 'STL': 3.15, 'ORB': 2.94, '2PA': 1.99,\n",
    "        'DRB': 1.94, 'DWS': 1.82, '2P%': 1.71, 'FG%': 1.70, 'BLK': 1.63, '3P': 1.61, '3PA': 1.44,\n",
    "        '2P': 1.13\n",
    "    }\n",
    "    \n",
    "    objective = solver.Objective()\n",
    "    for player_name, player in players.items():\n",
    "        weighted_score = sum(weights[stat] * player.stats[stat] for stat in player.stats)\n",
    "        objective.SetCoefficient(vars[player_name], weighted_score)\n",
    "    objective.SetMaximization()\n",
    "\n",
    "def solve_and_print(solver, vars, players):\n",
    "    status = solver.Solve()\n",
    "    if status == pywraplp.Solver.OPTIMAL:\n",
    "        \n",
    "        selected_players = [player_name for player_name, var in vars.items() if var.solution_value() == 1]\n",
    "        total_salary = sum(players[player_name].salary for player_name in selected_players)\n",
    "        total_stats = {stat: 0 for stat in next(iter(players.values())).stats.keys()}\n",
    "        \n",
    "        for player_name in selected_players:\n",
    "            player = players[player_name]\n",
    "            for stat in player.stats:\n",
    "                total_stats[stat] += player.stats[stat]\n",
    "        \n",
    "        print(f'Total team salary: ${total_salary}')\n",
    "        print('Team statistics:')\n",
    "        for stat, value in total_stats.items():\n",
    "            print(f' - {stat}: {value}')\n",
    "        print('Team:')\n",
    "        for player_name in selected_players:\n",
    "            player = players[player_name]\n",
    "            print(f' - {player.name}: {player.pos}, Salary: ${player.salary}')\n",
    "    else:\n",
    "        print('An optimal solution was not found')\n",
    "        \n",
    "\n",
    "def main():\n",
    "    \n",
    "    players = create_team(df_player_salary)\n",
    "    max_salary = 166626303 #Restricción de presupuesto\n",
    "    min_positions = {'PF': 2, 'C': 2, 'SG': 2, 'PG': 2, 'SF': 2} #Restricciones de posiciones\n",
    "    \n",
    "    solver = create_solver()\n",
    "    vars = define_variables(solver, players)\n",
    "    add_constraints(solver, vars, players, max_salary, min_positions)\n",
    "    set_objective(solver, vars, players)\n",
    "    solve_and_print(solver, vars, players)\n",
    "\n",
    "if __name__ == \"__main__\":\n",
    "    main()"
   ]
  }
 ],
 "metadata": {
  "kernelspec": {
   "display_name": "entorno",
   "language": "python",
   "name": "python3"
  },
  "language_info": {
   "codemirror_mode": {
    "name": "ipython",
    "version": 3
   },
   "file_extension": ".py",
   "mimetype": "text/x-python",
   "name": "python",
   "nbconvert_exporter": "python",
   "pygments_lexer": "ipython3",
   "version": "3.11.8"
  }
 },
 "nbformat": 4,
 "nbformat_minor": 2
}
